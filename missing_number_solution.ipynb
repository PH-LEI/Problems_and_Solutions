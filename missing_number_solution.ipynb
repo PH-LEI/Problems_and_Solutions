{
 "cells": [
  {
   "cell_type": "markdown",
   "metadata": {},
   "source": [
    "#### Things to think about:\n",
    "\n",
    "1. Do we really need extra storage to keep track of presence of numbers?\n",
    "2. Would it be easier to find missing number if input array is sorted?"
   ]
  },
  {
   "cell_type": "markdown",
   "metadata": {},
   "source": [
    "#### Solution 1 (Brute Force Using HashSet):\n",
    "\n",
    "#### General idea:\n",
    "\n",
    "We can use some extra space to store the presence of each number in input array, then we check from 0 to len(input_array) + 1 and see if the number is missing in input array.\n",
    "\n",
    "   ##### Step 1. Create a set out of input array\n",
    "   ##### Step 2. Iterate from 0 to N\n",
    "   ##### Step 3. Check if current number exists in the set\n",
    "   ##### Step 4. If not, it's the missing number so we return it\n",
    "\n",
    "#### Time and Space Complexity:\n",
    "\n",
    "\n",
    "n: length of input array\n",
    "\n",
    "Time: O(n) set() will cost linear time and iteration from 0 to len(input_array) + 1 also cost linear time.\n",
    "\n",
    "Space: O(n) The set will take up O(n) extra space.\n",
    "\n",
    "#### Note for implmentation:\n",
    "\n",
    "There will be 1 missing number in input array, note that you have to check every number from 0 to len(input_array) + 1"
   ]
  },
  {
   "cell_type": "code",
   "execution_count": null,
   "metadata": {
    "collapsed": true
   },
   "outputs": [],
   "source": [
    "class Solution:\n",
    "    def missingNumber(self, nums):\n",
    "        # Create a set out of input array\n",
    "        input_set = set(nums)\n",
    "        \n",
    "        # Iterate from 0 to len(input_array) + 1 and check if each number exists in the set\n",
    "        for i in range(len(nums) + 1):\n",
    "            if i not in input_set:\n",
    "                return i\n",
    "        return 0\n",
    "        "
   ]
  },
  {
   "cell_type": "markdown",
   "metadata": {},
   "source": [
    "#### Solution 2 (Sort First):\n",
    "\n",
    "#### General idea:\n",
    "\n",
    "We know that every elements in input array could be placed to their coresponding index except the missing element. Therefore we sort the input array first then we can easily find the missing number by walking through sorted array.\n",
    "\n",
    "##### Step 1. Sort input array\n",
    "##### Step 2. Check the last number\n",
    "##### Step 3. Check the first number\n",
    "##### Step 4. Iterate sorted array and check if current index is matching current number\n",
    "##### Step 5. If not, current index is our missing number\n",
    "\n",
    "#### Time and Space Complexity:\n",
    "\n",
    "n: size of input array\n",
    "\n",
    "Time: O(nlogn). Sorting will cost O(nlogn) time and the walk through will cost O(n)\n",
    "\n",
    "Space: O(1). No extra space usage\n",
    "\n",
    "#### Note for implmentation:\n",
    "\n",
    "Length of input array will be N - 1, it will affect iterating sorted array. \n",
    "\n",
    "Using standard function from Python library is convenient, but you still need to understand how it works under the hood. What kind of sorting does the sort() function use? It will be the bottle neck of speed for your code. "
   ]
  },
  {
   "cell_type": "code",
   "execution_count": null,
   "metadata": {
    "collapsed": true
   },
   "outputs": [],
   "source": [
    "class Solution:\n",
    "    def missingNumber(self, nums):\n",
    "        # First we sort the input array\n",
    "        nums.sort()\n",
    "\n",
    "        # Ensure that n is at the last index\n",
    "        if nums[-1] != len(nums):\n",
    "            return len(nums)\n",
    "        # Ensure that 0 is at the first index\n",
    "        elif nums[0] != 0:\n",
    "            return 0\n",
    "\n",
    "        # Walk through the rest of numbers in sorted array to find our missing number, \n",
    "        # if the number not matching it's corresponding index, the index is our missing number\n",
    "        for i in range(1, len(nums)):\n",
    "            if i != nums[i]:\n",
    "                return i"
   ]
  },
  {
   "cell_type": "markdown",
   "metadata": {},
   "source": [
    "#### Solution 3 (Math):\n",
    "\n",
    "#### General idea:\n",
    "\n",
    "Utilize the Gauss' Formula to calculate the sum of numbers from 0 to len(input_array) + 1, then compare it with the sum of every numebr in input array. Since there is only one missing number, the gap between two sums should be the missing number. If two sums are equal then the missing number should be 0.\n",
    "\n",
    "##### Step 1. Calculate the sum from 0 to len(input_array) + 1\n",
    "##### Step 2. Calculate the sum of input array\n",
    "##### Step 3. The missing number should be the difference between two sums\n",
    "\n",
    "#### Time and Space Complexity:\n",
    "\n",
    "n: length of input array\n",
    "\n",
    "Time: O(n) It takes linear time to calculate sum of \n",
    "\n",
    "Space: O(1) No extra space needed in this approach\n",
    "\n",
    "\n",
    "#### Note for implmentation:\n",
    "\n",
    "Make sure you recall Gauss' Formula and know when and how to use it.\n"
   ]
  },
  {
   "cell_type": "code",
   "execution_count": null,
   "metadata": {
    "collapsed": true
   },
   "outputs": [],
   "source": [
    "class Solution:\n",
    "    def missingNumber(self, nums):\n",
    "        # Calculate the sum without missing number\n",
    "        complete_sum = len(nums) * (len(nums) + 1) / 2;\n",
    "        \n",
    "        # Calculate sum of input array\n",
    "        # Or you can simply use sum(nums) to get input_sum, both cost linear time\n",
    "        input_sum = 0;\n",
    "        for num in nums:\n",
    "            input_sum += num\n",
    "        \n",
    "        return complete_sum - input_sum"
   ]
  },
  {
   "cell_type": "markdown",
   "metadata": {},
   "source": [
    "#### Solution 4 (Bit Manipulation):\n",
    "\n",
    "\n",
    "\n",
    "#### General idea:\n",
    "\n",
    "#### Time and Space Complexity:\n",
    "\n",
    "#### Note for implmentation:"
   ]
  },
  {
   "cell_type": "code",
   "execution_count": null,
   "metadata": {
    "collapsed": true
   },
   "outputs": [],
   "source": [
    "class Solution:\n",
    "    def missingNumber(self, nums):\n",
    "        missing_num = len(nums)\n",
    "        for i, num in enumerate(nums):\n",
    "            missing_num ^= i ^ num\n",
    "\n",
    "        return missing_num"
   ]
  }
 ],
 "metadata": {
  "kernelspec": {
   "display_name": "Python 3",
   "language": "python",
   "name": "python3"
  },
  "language_info": {
   "codemirror_mode": {
    "name": "ipython",
    "version": 3
   },
   "file_extension": ".py",
   "mimetype": "text/x-python",
   "name": "python",
   "nbconvert_exporter": "python",
   "pygments_lexer": "ipython3",
   "version": "3.5.3"
  }
 },
 "nbformat": 4,
 "nbformat_minor": 2
}
