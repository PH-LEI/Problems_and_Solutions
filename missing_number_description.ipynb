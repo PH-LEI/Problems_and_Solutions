{
 "cells": [
  {
   "cell_type": "markdown",
   "metadata": {},
   "source": [
    "#### Problem: Container With Most Water\n",
    "\n",
    "Given an array containing N distinct numbers taken from 0, 1, 2, ..., N, find the one that is missing from the array.\n",
    "\n",
    "__Example 1__:\n",
    "\n",
    "__Input__: `[3,0,1]`\n",
    "\n",
    "__Output__: `2`\n",
    "\n",
    "\n",
    "__Example 2__:\n",
    "\n",
    "__Input__: `[9,6,4,2,3,5,7,0,1]`\n",
    "\n",
    "__Output__: `8`"
   ]
  },
  {
   "cell_type": "code",
   "execution_count": null,
   "metadata": {
    "collapsed": true
   },
   "outputs": [],
   "source": []
  }
 ],
 "metadata": {
  "kernelspec": {
   "display_name": "Python 3",
   "language": "python",
   "name": "python3"
  },
  "language_info": {
   "codemirror_mode": {
    "name": "ipython",
    "version": 3
   },
   "file_extension": ".py",
   "mimetype": "text/x-python",
   "name": "python",
   "nbconvert_exporter": "python",
   "pygments_lexer": "ipython3",
   "version": "3.5.3"
  }
 },
 "nbformat": 4,
 "nbformat_minor": 2
}
